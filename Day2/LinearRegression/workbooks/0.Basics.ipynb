{
 "cells": [
  {
   "cell_type": "markdown",
   "id": "9990533b-2876-4117-8957-6b350f721643",
   "metadata": {},
   "source": [
    "# Basics\n",
    "\n",
    "In this workbook we'll try to walk through some basics of the linear regression models shown in the tutorial."
   ]
  },
  {
   "cell_type": "code",
   "execution_count": 1,
   "id": "2f7abbf8-8707-49f7-81e3-0ee32ae0a6ad",
   "metadata": {
    "tags": []
   },
   "outputs": [],
   "source": [
    "import numpy as np\n",
    "import matplotlib.pyplot as plt\n",
    "import pickle"
   ]
  },
  {
   "cell_type": "code",
   "execution_count": 2,
   "id": "9d7302ef-fbb4-467e-8db7-ab09898dc14c",
   "metadata": {
    "tags": []
   },
   "outputs": [],
   "source": [
    "workbook_data = pickle.load(open('data/workbook_0.p', 'rb'))\n",
    "x, y, ye = workbook_data['x'], workbook_data['y'], workbook_data['ye']"
   ]
  },
  {
   "cell_type": "code",
   "execution_count": 3,
   "id": "fa4a4def-d320-4b15-9c64-e23dfc5634b7",
   "metadata": {
    "tags": []
   },
   "outputs": [
    {
     "data": {
      "text/plain": [
       "[Text(0.5, 0, 'x'), Text(0, 0.5, 'y'), Text(0.5, 1.0, 'Fake Data')]"
      ]
     },
     "execution_count": 3,
     "metadata": {},
     "output_type": "execute_result"
    },
    {
     "data": {
      "image/png": "[encoded data removed]",
      "text/plain": [
       "<Figure size 432x288 with 1 Axes>"
      ]
     },
     "metadata": {
      "needs_background": "light"
     },
     "output_type": "display_data"
    }
   ],
   "source": [
    "fig, ax = plt.subplots()\n",
    "ax.errorbar(x, y, ye, color='k')\n",
    "ax.set(xlabel='x', ylabel='y', title='Fake Data')"
   ]
  },
  {
   "cell_type": "markdown",
   "id": "e0494513-9c7d-43d0-a517-853af2cac532",
   "metadata": {},
   "source": [
    "## Step 1: Create a design matrix\n",
    "\n",
    "Create a design matrix for the data above. The design matrix should be a **3rd order polynomial**. The order of the vectors in the design matrix should be $x^0$, $x^1$, ... , $x^n$.\n",
    "\n",
    "Overwrite `A` below to be your design matrix."
   ]
  },
  {
   "cell_type": "code",
   "execution_count": 14,
   "id": "b77caa92-ea55-4e0b-acb5-ca17f3fe67c3",
   "metadata": {
    "tags": []
   },
   "outputs": [],
   "source": [
    "A = None"
   ]
  },
  {
   "cell_type": "code",
   "execution_count": 5,
   "id": "253a574f-88c6-45d4-a93b-fd7de2bf75cc",
   "metadata": {
    "tags": []
   },
   "outputs": [],
   "source": [
    "assert isinstance(A, np.ndarray)\n",
    "assert np.all([np.allclose(a, x**idx) for idx, a in enumerate(A.T)])"
   ]
  },
  {
   "cell_type": "markdown",
   "id": "2a877e42-08f0-4a74-a572-1e177c3e2fe0",
   "metadata": {
    "tags": []
   },
   "source": [
    "## Step 2: Find the best fitting weights\n",
    "Use the Weighted Least Squares equation to find the mean best fitting weights. \n",
    "\n",
    "Overwrite `w` below to be your mean best fitting weights. "
   ]
  },
  {
   "cell_type": "code",
   "execution_count": 6,
   "id": "4c3dc3df-8bc3-4cdf-8334-594c36b37148",
   "metadata": {
    "tags": []
   },
   "outputs": [],
   "source": [
    "w = None"
   ]
  },
  {
   "cell_type": "code",
   "execution_count": 7,
   "id": "7b9c2421-79d2-4256-874e-4222c1b405eb",
   "metadata": {
    "tags": []
   },
   "outputs": [],
   "source": [
    "assert np.isclose(w, workbook_data['true_w'], atol=3*np.linalg.inv(A.T.dot(A/ye[:, None]**2)).diagonal()**0.5).all()"
   ]
  },
  {
   "cell_type": "markdown",
   "id": "518cf6ca-5bfe-4d7d-b147-0ce0870f0f95",
   "metadata": {},
   "source": [
    "## Step 3: Find the errors on the best fitting weights\n",
    "\n",
    "Calculate the errors on the best fitting weights (i.e. the standard deviation of the distribution of the best fitting weights.)\n",
    "\n",
    "Overwrite `w_err` below with your best fitting weights "
   ]
  },
  {
   "cell_type": "code",
   "execution_count": 8,
   "id": "d74203e3-c635-4e5d-826f-15bd9b090ea1",
   "metadata": {
    "tags": []
   },
   "outputs": [],
   "source": [
    "w_err = None"
   ]
  },
  {
   "cell_type": "code",
   "execution_count": 9,
   "id": "660d2c76-6478-426c-89aa-f7b2f510e8f1",
   "metadata": {
    "tags": []
   },
   "outputs": [],
   "source": [
    "assert len(w_err) == len(w)\n",
    "assert np.allclose(w_err, np.asarray([3.18224571, 0.91858162, 0.07118683, 0.01403367]), atol=0.3)"
   ]
  },
  {
   "cell_type": "markdown",
   "id": "0666fc12-d35c-4a4c-a575-387d231115a6",
   "metadata": {},
   "source": [
    "## Step 4: Calculate the model outside of the data bounds\n",
    "\n",
    "Use your best fitting weights to calculate the mean model at position $x = 11$.\n",
    "\n",
    "Overwrite `y_11` below with your answer. "
   ]
  },
  {
   "cell_type": "code",
   "execution_count": 10,
   "id": "b539f4c9-142b-486b-aae1-31a81d6a8c2c",
   "metadata": {
    "tags": []
   },
   "outputs": [],
   "source": [
    "y_11 = None"
   ]
  },
  {
   "cell_type": "code",
   "execution_count": 11,
   "id": "9ead65af-9757-4a39-87c6-6dc8e4a8f464",
   "metadata": {
    "tags": []
   },
   "outputs": [],
   "source": [
    "assert y_11 == 181.83203225825352"
   ]
  },
  {
   "cell_type": "markdown",
   "id": "490307a1-6fa0-4afe-bed4-f1aa8abf2c18",
   "metadata": {},
   "source": [
    "## Step 5: Estimate the error on the model at new point\n",
    "\n",
    "Use `np.random.multivariate_normal` to estimate the model error at  $x = 11$.\n",
    "\n",
    "Overwrite `y_11_err` below with your answer."
   ]
  },
  {
   "cell_type": "code",
   "execution_count": 12,
   "id": "bbc93e8f-5f0e-4fc3-a033-b6df5782feb2",
   "metadata": {
    "tags": []
   },
   "outputs": [],
   "source": [
    "y_11_err = None"
   ]
  },
  {
   "cell_type": "code",
   "execution_count": 13,
   "id": "8cddad5c-22c6-4e08-94f6-ddc08734355b",
   "metadata": {
    "tags": []
   },
   "outputs": [],
   "source": [
    "assert np.isclose(y_11_err, 12, atol=2)"
   ]
  }
 ],
 "metadata": {
  "kernelspec": {
   "display_name": "Python 3 (ipykernel)",
   "language": "python",
   "name": "python3"
  },
  "language_info": {
   "codemirror_mode": {
    "name": "ipython",
    "version": 3
   },
   "file_extension": ".py",
   "mimetype": "text/x-python",
   "name": "python",
   "nbconvert_exporter": "python",
   "pygments_lexer": "ipython3",
   "version": "3.9.13"
  }
 },
 "nbformat": 4,
 "nbformat_minor": 5
}
